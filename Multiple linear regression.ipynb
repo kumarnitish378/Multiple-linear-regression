{
 "cells": [
  {
   "cell_type": "code",
   "execution_count": 31,
   "metadata": {},
   "outputs": [],
   "source": [
    "import numpy as np\n",
    "import pandas as pd\n",
    "from sklearn import linear_model\n",
    "import math"
   ]
  },
  {
   "cell_type": "code",
   "execution_count": 32,
   "metadata": {},
   "outputs": [
    {
     "data": {
      "text/html": [
       "<div>\n",
       "<style scoped>\n",
       "    .dataframe tbody tr th:only-of-type {\n",
       "        vertical-align: middle;\n",
       "    }\n",
       "\n",
       "    .dataframe tbody tr th {\n",
       "        vertical-align: top;\n",
       "    }\n",
       "\n",
       "    .dataframe thead th {\n",
       "        text-align: right;\n",
       "    }\n",
       "</style>\n",
       "<table border=\"1\" class=\"dataframe\">\n",
       "  <thead>\n",
       "    <tr style=\"text-align: right;\">\n",
       "      <th></th>\n",
       "      <th>area</th>\n",
       "      <th>bedroom</th>\n",
       "      <th>age</th>\n",
       "      <th>price</th>\n",
       "    </tr>\n",
       "  </thead>\n",
       "  <tbody>\n",
       "    <tr>\n",
       "      <td>0</td>\n",
       "      <td>2600</td>\n",
       "      <td>3.0</td>\n",
       "      <td>20</td>\n",
       "      <td>550000</td>\n",
       "    </tr>\n",
       "    <tr>\n",
       "      <td>1</td>\n",
       "      <td>3000</td>\n",
       "      <td>4.0</td>\n",
       "      <td>15</td>\n",
       "      <td>565000</td>\n",
       "    </tr>\n",
       "    <tr>\n",
       "      <td>2</td>\n",
       "      <td>3200</td>\n",
       "      <td>NaN</td>\n",
       "      <td>18</td>\n",
       "      <td>610000</td>\n",
       "    </tr>\n",
       "    <tr>\n",
       "      <td>3</td>\n",
       "      <td>3600</td>\n",
       "      <td>3.0</td>\n",
       "      <td>30</td>\n",
       "      <td>595000</td>\n",
       "    </tr>\n",
       "    <tr>\n",
       "      <td>4</td>\n",
       "      <td>4000</td>\n",
       "      <td>5.0</td>\n",
       "      <td>8</td>\n",
       "      <td>760000</td>\n",
       "    </tr>\n",
       "    <tr>\n",
       "      <td>5</td>\n",
       "      <td>4500</td>\n",
       "      <td>5.0</td>\n",
       "      <td>10</td>\n",
       "      <td>25520</td>\n",
       "    </tr>\n",
       "    <tr>\n",
       "      <td>6</td>\n",
       "      <td>125545</td>\n",
       "      <td>10.0</td>\n",
       "      <td>4</td>\n",
       "      <td>685421</td>\n",
       "    </tr>\n",
       "  </tbody>\n",
       "</table>\n",
       "</div>"
      ],
      "text/plain": [
       "     area  bedroom  age   price\n",
       "0    2600      3.0   20  550000\n",
       "1    3000      4.0   15  565000\n",
       "2    3200      NaN   18  610000\n",
       "3    3600      3.0   30  595000\n",
       "4    4000      5.0    8  760000\n",
       "5    4500      5.0   10   25520\n",
       "6  125545     10.0    4  685421"
      ]
     },
     "execution_count": 32,
     "metadata": {},
     "output_type": "execute_result"
    }
   ],
   "source": [
    "df = pd.read_csv('home.csv')\n",
    "df"
   ]
  },
  {
   "cell_type": "code",
   "execution_count": 33,
   "metadata": {},
   "outputs": [
    {
     "data": {
      "text/html": [
       "<div>\n",
       "<style scoped>\n",
       "    .dataframe tbody tr th:only-of-type {\n",
       "        vertical-align: middle;\n",
       "    }\n",
       "\n",
       "    .dataframe tbody tr th {\n",
       "        vertical-align: top;\n",
       "    }\n",
       "\n",
       "    .dataframe thead th {\n",
       "        text-align: right;\n",
       "    }\n",
       "</style>\n",
       "<table border=\"1\" class=\"dataframe\">\n",
       "  <thead>\n",
       "    <tr style=\"text-align: right;\">\n",
       "      <th></th>\n",
       "      <th>area</th>\n",
       "      <th>bedroom</th>\n",
       "      <th>age</th>\n",
       "      <th>price</th>\n",
       "    </tr>\n",
       "  </thead>\n",
       "  <tbody>\n",
       "    <tr>\n",
       "      <td>0</td>\n",
       "      <td>2600</td>\n",
       "      <td>3.0</td>\n",
       "      <td>20</td>\n",
       "      <td>550000</td>\n",
       "    </tr>\n",
       "    <tr>\n",
       "      <td>1</td>\n",
       "      <td>3000</td>\n",
       "      <td>4.0</td>\n",
       "      <td>15</td>\n",
       "      <td>565000</td>\n",
       "    </tr>\n",
       "    <tr>\n",
       "      <td>2</td>\n",
       "      <td>3200</td>\n",
       "      <td>4.0</td>\n",
       "      <td>18</td>\n",
       "      <td>610000</td>\n",
       "    </tr>\n",
       "    <tr>\n",
       "      <td>3</td>\n",
       "      <td>3600</td>\n",
       "      <td>3.0</td>\n",
       "      <td>30</td>\n",
       "      <td>595000</td>\n",
       "    </tr>\n",
       "    <tr>\n",
       "      <td>4</td>\n",
       "      <td>4000</td>\n",
       "      <td>5.0</td>\n",
       "      <td>8</td>\n",
       "      <td>760000</td>\n",
       "    </tr>\n",
       "    <tr>\n",
       "      <td>5</td>\n",
       "      <td>4500</td>\n",
       "      <td>5.0</td>\n",
       "      <td>10</td>\n",
       "      <td>25520</td>\n",
       "    </tr>\n",
       "    <tr>\n",
       "      <td>6</td>\n",
       "      <td>125545</td>\n",
       "      <td>10.0</td>\n",
       "      <td>4</td>\n",
       "      <td>685421</td>\n",
       "    </tr>\n",
       "  </tbody>\n",
       "</table>\n",
       "</div>"
      ],
      "text/plain": [
       "     area  bedroom  age   price\n",
       "0    2600      3.0   20  550000\n",
       "1    3000      4.0   15  565000\n",
       "2    3200      4.0   18  610000\n",
       "3    3600      3.0   30  595000\n",
       "4    4000      5.0    8  760000\n",
       "5    4500      5.0   10   25520\n",
       "6  125545     10.0    4  685421"
      ]
     },
     "execution_count": 33,
     "metadata": {},
     "output_type": "execute_result"
    }
   ],
   "source": [
    "df = pd.read_csv('home.csv')\n",
    "df.bedroom = df.bedroom.fillna(math.floor(df.bedroom.median())) # fill NaN data with mean of number of bedroom\n",
    "df"
   ]
  },
  {
   "cell_type": "code",
   "execution_count": 34,
   "metadata": {},
   "outputs": [
    {
     "data": {
      "text/plain": [
       "LinearRegression(copy_X=True, fit_intercept=True, n_jobs=None, normalize=False)"
      ]
     },
     "execution_count": 34,
     "metadata": {},
     "output_type": "execute_result"
    }
   ],
   "source": [
    "# equation of multiple linear regression is,[ y=m1*x1 + m2*x2 + m3*x3 + ...Mn*Xn + c ]\n",
    "\n",
    "reg = linear_model.LinearRegression() #creat object, load  regression module for calculation\n",
    "reg.fit(df[['area','bedroom','age']],df.price) # training data, here [ area = x1, bedroom = x2, age = x3 ] and price = y"
   ]
  },
  {
   "cell_type": "code",
   "execution_count": 35,
   "metadata": {},
   "outputs": [
    {
     "data": {
      "text/plain": [
       "array([ 8.47135386e+00, -1.63783718e+05, -8.93224743e+03])"
      ]
     },
     "execution_count": 35,
     "metadata": {},
     "output_type": "execute_result"
    }
   ],
   "source": [
    "reg.coef_   # printint value of m1,m2,m3, (where m1,m2,m3 is slop)"
   ]
  },
  {
   "cell_type": "code",
   "execution_count": 36,
   "metadata": {},
   "outputs": [
    {
     "data": {
      "text/plain": [
       "1293840.8515536254"
      ]
     },
     "execution_count": 36,
     "metadata": {},
     "output_type": "execute_result"
    }
   ],
   "source": [
    "reg.intercept_ # printing value of c, where c is intercept point,"
   ]
  },
  {
   "cell_type": "code",
   "execution_count": 37,
   "metadata": {},
   "outputs": [
    {
     "data": {
      "text/plain": [
       "array([645870.27033933, 530136.33153552, 505033.86000368, 565019.14985158,\n",
       "       437349.69991335, 423720.88197234, 683810.8063842 ])"
      ]
     },
     "execution_count": 37,
     "metadata": {},
     "output_type": "execute_result"
    }
   ],
   "source": [
    "reg.predict(df[['area','bedroom','age']]) # prediction of data"
   ]
  },
  {
   "cell_type": "code",
   "execution_count": 38,
   "metadata": {},
   "outputs": [
    {
     "data": {
      "text/plain": [
       "array([427956.5588999])"
      ]
     },
     "execution_count": 38,
     "metadata": {},
     "output_type": "execute_result"
    }
   ],
   "source": [
    "y_pred = reg.predict([[5000,5,10]]) # prediction of data\n",
    "y_pred\n",
    "\n",
    "# we can also predict price by using above formula with the help of value of m1,m2,m3 and c\n",
    "# [ y=m1*x1 + m2*x2 + m3*x3 + ...Mn*Xn + c ] formula"
   ]
  },
  {
   "cell_type": "code",
   "execution_count": null,
   "metadata": {},
   "outputs": [
    {
     "name": "stdout",
     "output_type": "stream",
     "text": [
      "_____________________________________________________\n",
      "enter area of plot >> 1254\n",
      "enter number of bedroom >> 1\n",
      "enter age of plot >> 2\n",
      "price of this plot is [1122815.71690208]\n",
      "you want to continue [Y/N]? y\n",
      "_____________________________________________________\n",
      "enter area of plot >> 5632\n",
      "enter number of bedroom >> 2\n",
      "enter age of plot >> 2\n",
      "price of this plot is [996119.58656249]\n",
      "you want to continue [Y/N]? y\n",
      "_____________________________________________________\n",
      "enter area of plot >> 12\n",
      "enter number of bedroom >> 125\n",
      "enter age of plot >> 321\n",
      "enter vailed data\n"
     ]
    }
   ],
   "source": [
    "#continuos prediction of price:\n",
    "print('_____________________________________________________')\n",
    "while True:\n",
    "    area = float(input(\"enter area of plot >> \"))\n",
    "    bedroom = float(input(\"enter number of bedroom >> \"))\n",
    "    age = float(input(\"enter age of plot >> \"))\n",
    "    price = reg.predict([[area,bedroom,age]])\n",
    "    if price <0:\n",
    "        print(\"enter vailed data\")\n",
    "    elif price>0:\n",
    "        print(\"price of this plot is {}\".format(price[[0]]))\n",
    "    if input(\"you want to continue [Y/N]? \") == \"n\":\n",
    "        break\n",
    "    print('_____________________________________________________')"
   ]
  },
  {
   "cell_type": "code",
   "execution_count": null,
   "metadata": {},
   "outputs": [],
   "source": []
  },
  {
   "cell_type": "code",
   "execution_count": null,
   "metadata": {},
   "outputs": [],
   "source": []
  }
 ],
 "metadata": {
  "kernelspec": {
   "display_name": "Python 3",
   "language": "python",
   "name": "python3"
  },
  "language_info": {
   "codemirror_mode": {
    "name": "ipython",
    "version": 3
   },
   "file_extension": ".py",
   "mimetype": "text/x-python",
   "name": "python",
   "nbconvert_exporter": "python",
   "pygments_lexer": "ipython3",
   "version": "3.7.4"
  }
 },
 "nbformat": 4,
 "nbformat_minor": 2
}
